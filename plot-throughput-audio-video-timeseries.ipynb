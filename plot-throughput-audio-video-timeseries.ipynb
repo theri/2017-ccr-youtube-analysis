{
 "cells": [
  {
   "cell_type": "code",
   "execution_count": 88,
   "metadata": {
    "collapsed": false
   },
   "outputs": [],
   "source": [
    "import sqlite3\n",
    "import pandas as pd\n",
    "import filterbyip as fbi\n",
    "import clusterbycolumn as cbc\n",
    "import requests\n",
    "import asinfo\n",
    "\n",
    "import matplotlib.dates as dates\n",
    "from datetime import datetime as dt"
   ]
  },
  {
   "cell_type": "code",
   "execution_count": 89,
   "metadata": {
    "collapsed": false
   },
   "outputs": [
    {
     "name": "stdout",
     "output_type": "stream",
     "text": [
      "Populating the interactive namespace from numpy and matplotlib\n"
     ]
    },
    {
     "name": "stderr",
     "output_type": "stream",
     "text": [
      "WARNING: pylab import has clobbered these variables: ['norm', 'yticks', 'rrule']\n",
      "`%matplotlib` prevents importing * from pylab and numpy\n"
     ]
    }
   ],
   "source": [
    "import warnings\n",
    "warnings.filterwarnings('ignore')\n",
    "\n",
    "%pylab inline"
   ]
  },
  {
   "cell_type": "code",
   "execution_count": 90,
   "metadata": {
    "collapsed": false
   },
   "outputs": [
    {
     "data": {
      "text/html": [
       "<style>body {\n",
       "    margin: 0;\n",
       "    font-family: Helvetica;\n",
       "}\n",
       "table.dataframe {\n",
       "    border-collapse: collapse;\n",
       "    border: none;\n",
       "}\n",
       "table.dataframe tr {\n",
       "    border: none;\n",
       "}\n",
       "table.dataframe td, table.dataframe th {\n",
       "    margin: 0;\n",
       "    border: 1px solid white;\n",
       "    padding-left: 0.25em;\n",
       "    padding-right: 0.25em;\n",
       "}\n",
       "table.dataframe th:not(:empty) {\n",
       "    background-color: #fec;\n",
       "    text-align: left;\n",
       "    font-weight: normal;\n",
       "}\n",
       "table.dataframe tr:nth-child(2) th:empty {\n",
       "    border-left: none;\n",
       "    border-right: 1px dashed #888;\n",
       "}\n",
       "table.dataframe td {\n",
       "    border: 2px solid #ccf;\n",
       "    background-color: #f4f4ff;\n",
       "}\n",
       "h3 {\n",
       "    color: white;\n",
       "    background-color: black;\n",
       "    padding: 0.5em;\n",
       "}\n",
       "\n",
       ".CodeMirror {\n",
       "    font-family: 'Monaco for Powerline';\n",
       "}\n",
       "\n",
       "div.cell.code_cell {\n",
       "    font-family: 'Monaco for Powerline';\n",
       "}\n",
       "\n",
       "div.output_area pre {\n",
       "    font-family: 'Monaco for Powerline';\n",
       "}\n",
       "</style>"
      ],
      "text/plain": [
       "<IPython.core.display.HTML object>"
      ]
     },
     "execution_count": 90,
     "metadata": {},
     "output_type": "execute_result"
    }
   ],
   "source": [
    "from IPython.core.display import HTML\n",
    "css = open('style-table.css').read() + open('style-notebook.css').read()\n",
    "HTML('<style>{}</style>'.format(css))"
   ]
  },
  {
   "cell_type": "code",
   "execution_count": 91,
   "metadata": {
    "collapsed": true
   },
   "outputs": [],
   "source": [
    "def asn_from_probe_name(probe_name):\n",
    "    base = 'http://leone-collector.eecs.jacobs-university.de/msmpoint'\n",
    "    msm_metadata = requests.get('%s/%s'%(base, probe_name))\n",
    "    asn4 = str(msm_metadata.json()['asn4'])\n",
    "    asn6 = str(msm_metadata.json()['asn6'])\n",
    "    return asn4,asn6"
   ]
  },
  {
   "cell_type": "code",
   "execution_count": 92,
   "metadata": {
    "collapsed": true
   },
   "outputs": [],
   "source": [
    "dailydb_location = './youtube.db'"
   ]
  },
  {
   "cell_type": "code",
   "execution_count": 93,
   "metadata": {
    "collapsed": true
   },
   "outputs": [],
   "source": [
    "query = '''select   msmpoint.name as probe\n",
    "                  , dtime\n",
    "                  , video_address\n",
    "                  , video_download_bytes_sec\n",
    "                  , audio_download_bytes_sec\n",
    "           from youtube, msmpoint\n",
    "           where youtube.unit_id = msmpoint.skunitid\n",
    "           and msmpoint.skunitid <> ''\n",
    "           and successes = 1\n",
    "           and failures = 0;\n",
    "        '''"
   ]
  },
  {
   "cell_type": "code",
   "execution_count": 94,
   "metadata": {
    "collapsed": false
   },
   "outputs": [],
   "source": [
    "con = sqlite3.connect(dailydb_location)\n",
    "df = pd.read_sql(query, con)"
   ]
  },
  {
   "cell_type": "code",
   "execution_count": 95,
   "metadata": {
    "collapsed": false
   },
   "outputs": [
    {
     "data": {
      "text/plain": [
       "probe                       4422465\n",
       "dtime                       4422465\n",
       "video_address               4422465\n",
       "video_download_bytes_sec    4422465\n",
       "audio_download_bytes_sec    4422465\n",
       "dtype: int64"
      ]
     },
     "execution_count": 95,
     "metadata": {},
     "output_type": "execute_result"
    }
   ],
   "source": [
    "df.count()"
   ]
  },
  {
   "cell_type": "code",
   "execution_count": 96,
   "metadata": {
    "collapsed": false
   },
   "outputs": [
    {
     "data": {
      "text/html": [
       "<div>\n",
       "<style scoped>\n",
       "    .dataframe tbody tr th:only-of-type {\n",
       "        vertical-align: middle;\n",
       "    }\n",
       "\n",
       "    .dataframe tbody tr th {\n",
       "        vertical-align: top;\n",
       "    }\n",
       "\n",
       "    .dataframe thead th {\n",
       "        text-align: right;\n",
       "    }\n",
       "</style>\n",
       "<table border=\"1\" class=\"dataframe\">\n",
       "  <thead>\n",
       "    <tr style=\"text-align: right;\">\n",
       "      <th></th>\n",
       "      <th>probe</th>\n",
       "      <th>dtime</th>\n",
       "      <th>video_address</th>\n",
       "      <th>video_download_bytes_sec</th>\n",
       "      <th>audio_download_bytes_sec</th>\n",
       "    </tr>\n",
       "  </thead>\n",
       "  <tbody>\n",
       "    <tr>\n",
       "      <th>0</th>\n",
       "      <td>samsbox81</td>\n",
       "      <td>2016-09-05 16:29:41</td>\n",
       "      <td>193.212.4.15</td>\n",
       "      <td>2006335</td>\n",
       "      <td>1242187</td>\n",
       "    </tr>\n",
       "    <tr>\n",
       "      <th>1</th>\n",
       "      <td>samsbox81</td>\n",
       "      <td>2016-09-05 16:30:23</td>\n",
       "      <td>2001:4600:9:307::f</td>\n",
       "      <td>2032809</td>\n",
       "      <td>1146949</td>\n",
       "    </tr>\n",
       "    <tr>\n",
       "      <th>2</th>\n",
       "      <td>samsbox81</td>\n",
       "      <td>2016-09-05 17:26:17</td>\n",
       "      <td>193.212.4.15</td>\n",
       "      <td>1946785</td>\n",
       "      <td>1214358</td>\n",
       "    </tr>\n",
       "    <tr>\n",
       "      <th>3</th>\n",
       "      <td>samsbox81</td>\n",
       "      <td>2016-09-05 17:26:59</td>\n",
       "      <td>2001:4600:9:307::f</td>\n",
       "      <td>2008980</td>\n",
       "      <td>889966</td>\n",
       "    </tr>\n",
       "    <tr>\n",
       "      <th>4</th>\n",
       "      <td>samsbox81</td>\n",
       "      <td>2016-09-05 18:25:53</td>\n",
       "      <td>193.212.4.15</td>\n",
       "      <td>1927047</td>\n",
       "      <td>1181569</td>\n",
       "    </tr>\n",
       "  </tbody>\n",
       "</table>\n",
       "</div>"
      ],
      "text/plain": [
       "       probe                dtime       video_address  \\\n",
       "0  samsbox81  2016-09-05 16:29:41        193.212.4.15   \n",
       "1  samsbox81  2016-09-05 16:30:23  2001:4600:9:307::f   \n",
       "2  samsbox81  2016-09-05 17:26:17        193.212.4.15   \n",
       "3  samsbox81  2016-09-05 17:26:59  2001:4600:9:307::f   \n",
       "4  samsbox81  2016-09-05 18:25:53        193.212.4.15   \n",
       "\n",
       "   video_download_bytes_sec  audio_download_bytes_sec  \n",
       "0                   2006335                   1242187  \n",
       "1                   2032809                   1146949  \n",
       "2                   1946785                   1214358  \n",
       "3                   2008980                    889966  \n",
       "4                   1927047                   1181569  "
      ]
     },
     "execution_count": 96,
     "metadata": {},
     "output_type": "execute_result"
    }
   ],
   "source": [
    "df.head()"
   ]
  },
  {
   "cell_type": "code",
   "execution_count": 97,
   "metadata": {
    "collapsed": true
   },
   "outputs": [],
   "source": [
    "df[\"video_mbits\"] = df[\"video_download_bytes_sec\"].div(1024).div(1024).mul(8)"
   ]
  },
  {
   "cell_type": "code",
   "execution_count": 98,
   "metadata": {
    "collapsed": false
   },
   "outputs": [
    {
     "name": "stdout",
     "output_type": "stream",
     "text": [
      "Median: 1385397.0 (10.57 Mbit/s)\n",
      "and mean: 1817643.0 (13.87 Mbit/s)\n"
     ]
    }
   ],
   "source": [
    "overall_median = df[\"video_download_bytes_sec\"].median()\n",
    "overall_mean = df[\"video_download_bytes_sec\"].mean()\n",
    "print(\"Median: \" + str(overall_median) + \" (\" + str(round(df[\"video_mbits\"].median(), 2)) + \" Mbit/s)\")\n",
    "print (\"and mean: \" + str(round(overall_mean)) + \" (\" + str(round(df[\"video_mbits\"].mean(),2)) +\" Mbit/s)\")"
   ]
  },
  {
   "cell_type": "code",
   "execution_count": 99,
   "metadata": {
    "collapsed": false
   },
   "outputs": [
    {
     "data": {
      "text/plain": [
       "count    4422465.000000\n",
       "mean          13.867518\n",
       "std           11.915485\n",
       "min            0.000000\n",
       "5%             3.124481\n",
       "10%            4.393944\n",
       "25%            6.646240\n",
       "50%           10.569740\n",
       "75%           16.654869\n",
       "90%           27.162007\n",
       "95%           28.380641\n",
       "max          176.279022\n",
       "Name: video_mbits, dtype: object"
      ]
     },
     "execution_count": 99,
     "metadata": {},
     "output_type": "execute_result"
    }
   ],
   "source": [
    "df[\"video_mbits\"].describe(percentiles=[0.05, 0.1, 0.25, 0.5, 0.75, 0.9, 0.95]).apply(lambda x: format(x, 'f'))"
   ]
  },
  {
   "cell_type": "code",
   "execution_count": 100,
   "metadata": {
    "collapsed": false
   },
   "outputs": [
    {
     "data": {
      "text/plain": [
       "count       4422465\n",
       "unique          102\n",
       "top       samsbox03\n",
       "freq          74284\n",
       "Name: probe, dtype: object"
      ]
     },
     "execution_count": 100,
     "metadata": {},
     "output_type": "execute_result"
    }
   ],
   "source": [
    "df[\"probe\"].describe()"
   ]
  },
  {
   "cell_type": "code",
   "execution_count": 105,
   "metadata": {
    "collapsed": false
   },
   "outputs": [
    {
     "data": {
      "text/plain": [
       "probe                       91687\n",
       "dtime                       91687\n",
       "video_address               91687\n",
       "video_download_bytes_sec    91687\n",
       "audio_download_bytes_sec    91687\n",
       "video_mbits                 91687\n",
       "dtype: int64"
      ]
     },
     "execution_count": 105,
     "metadata": {},
     "output_type": "execute_result"
    }
   ],
   "source": [
    "dates_with_max_greater_50 = df[df['video_mbits'] > 50]\n",
    "#dates_with_max_greater_50['probe'].unique()\n",
    "dates_with_max_greater_50.count()"
   ]
  },
  {
   "cell_type": "code",
   "execution_count": 116,
   "metadata": {
    "collapsed": false
   },
   "outputs": [
    {
     "data": {
      "text/html": [
       "<div>\n",
       "<style scoped>\n",
       "    .dataframe tbody tr th:only-of-type {\n",
       "        vertical-align: middle;\n",
       "    }\n",
       "\n",
       "    .dataframe tbody tr th {\n",
       "        vertical-align: top;\n",
       "    }\n",
       "\n",
       "    .dataframe thead th {\n",
       "        text-align: right;\n",
       "    }\n",
       "</style>\n",
       "<table border=\"1\" class=\"dataframe\">\n",
       "  <thead>\n",
       "    <tr style=\"text-align: right;\">\n",
       "      <th></th>\n",
       "      <th>probe</th>\n",
       "      <th>dtime</th>\n",
       "      <th>video_address</th>\n",
       "      <th>video_download_bytes_sec</th>\n",
       "      <th>audio_download_bytes_sec</th>\n",
       "      <th>video_mbits</th>\n",
       "    </tr>\n",
       "  </thead>\n",
       "  <tbody>\n",
       "    <tr>\n",
       "      <th>12242</th>\n",
       "      <td>samsbox02</td>\n",
       "      <td>2014-12-10 06:27:09</td>\n",
       "      <td>2a00:1450:4005:6::12</td>\n",
       "      <td>809187</td>\n",
       "      <td>61452</td>\n",
       "      <td>6.173607</td>\n",
       "    </tr>\n",
       "    <tr>\n",
       "      <th>12243</th>\n",
       "      <td>samsbox02</td>\n",
       "      <td>2014-12-10 07:26:21</td>\n",
       "      <td>2a00:1450:4005:6::12</td>\n",
       "      <td>810795</td>\n",
       "      <td>61615</td>\n",
       "      <td>6.185875</td>\n",
       "    </tr>\n",
       "    <tr>\n",
       "      <th>12244</th>\n",
       "      <td>samsbox02</td>\n",
       "      <td>2014-12-10 08:27:10</td>\n",
       "      <td>64.15.112.79</td>\n",
       "      <td>804519</td>\n",
       "      <td>62068</td>\n",
       "      <td>6.137993</td>\n",
       "    </tr>\n",
       "    <tr>\n",
       "      <th>12245</th>\n",
       "      <td>samsbox02</td>\n",
       "      <td>2014-12-10 09:26:25</td>\n",
       "      <td>64.15.112.79</td>\n",
       "      <td>795560</td>\n",
       "      <td>62254</td>\n",
       "      <td>6.069641</td>\n",
       "    </tr>\n",
       "    <tr>\n",
       "      <th>12246</th>\n",
       "      <td>samsbox02</td>\n",
       "      <td>2014-12-10 12:30:44</td>\n",
       "      <td>64.15.112.79</td>\n",
       "      <td>4159337</td>\n",
       "      <td>1974874</td>\n",
       "      <td>31.733223</td>\n",
       "    </tr>\n",
       "  </tbody>\n",
       "</table>\n",
       "</div>"
      ],
      "text/plain": [
       "           probe                dtime         video_address  \\\n",
       "12242  samsbox02  2014-12-10 06:27:09  2a00:1450:4005:6::12   \n",
       "12243  samsbox02  2014-12-10 07:26:21  2a00:1450:4005:6::12   \n",
       "12244  samsbox02  2014-12-10 08:27:10          64.15.112.79   \n",
       "12245  samsbox02  2014-12-10 09:26:25          64.15.112.79   \n",
       "12246  samsbox02  2014-12-10 12:30:44          64.15.112.79   \n",
       "\n",
       "       video_download_bytes_sec  audio_download_bytes_sec  video_mbits  \n",
       "12242                    809187                     61452     6.173607  \n",
       "12243                    810795                     61615     6.185875  \n",
       "12244                    804519                     62068     6.137993  \n",
       "12245                    795560                     62254     6.069641  \n",
       "12246                   4159337                   1974874    31.733223  "
      ]
     },
     "execution_count": 116,
     "metadata": {},
     "output_type": "execute_result"
    }
   ],
   "source": [
    "#df_time_period = df[df['dtime'] > \"2014-12-10\" and df['dtime'] < \"2015-06-26\"]\n",
    "df_time_period = df[(df['dtime'] > \"2014-12-10\")]\n",
    "df_time_period = df_time_period[df_time_period['dtime'] < \"2015-06-28\"]\n",
    "df_time_period.head()"
   ]
  },
  {
   "cell_type": "code",
   "execution_count": 117,
   "metadata": {
    "collapsed": false
   },
   "outputs": [
    {
     "data": {
      "text/html": [
       "<div>\n",
       "<style scoped>\n",
       "    .dataframe tbody tr th:only-of-type {\n",
       "        vertical-align: middle;\n",
       "    }\n",
       "\n",
       "    .dataframe tbody tr th {\n",
       "        vertical-align: top;\n",
       "    }\n",
       "\n",
       "    .dataframe thead th {\n",
       "        text-align: right;\n",
       "    }\n",
       "</style>\n",
       "<table border=\"1\" class=\"dataframe\">\n",
       "  <thead>\n",
       "    <tr style=\"text-align: right;\">\n",
       "      <th></th>\n",
       "      <th>probe</th>\n",
       "      <th>dtime</th>\n",
       "      <th>video_address</th>\n",
       "      <th>video_download_bytes_sec</th>\n",
       "      <th>audio_download_bytes_sec</th>\n",
       "      <th>video_mbits</th>\n",
       "    </tr>\n",
       "  </thead>\n",
       "  <tbody>\n",
       "    <tr>\n",
       "      <th>4309897</th>\n",
       "      <td>samsbox11</td>\n",
       "      <td>2015-06-27 20:28:18</td>\n",
       "      <td>2a00:1450:400e:18::14</td>\n",
       "      <td>1522592</td>\n",
       "      <td>15145</td>\n",
       "      <td>11.616455</td>\n",
       "    </tr>\n",
       "    <tr>\n",
       "      <th>4309898</th>\n",
       "      <td>samsbox11</td>\n",
       "      <td>2015-06-27 21:27:12</td>\n",
       "      <td>83.255.235.17</td>\n",
       "      <td>2474828</td>\n",
       "      <td>2593647</td>\n",
       "      <td>18.881439</td>\n",
       "    </tr>\n",
       "    <tr>\n",
       "      <th>4309899</th>\n",
       "      <td>samsbox11</td>\n",
       "      <td>2015-06-27 21:28:25</td>\n",
       "      <td>2a00:1450:400e:18::14</td>\n",
       "      <td>622718</td>\n",
       "      <td>818561</td>\n",
       "      <td>4.750961</td>\n",
       "    </tr>\n",
       "    <tr>\n",
       "      <th>4309900</th>\n",
       "      <td>samsbox11</td>\n",
       "      <td>2015-06-27 22:26:50</td>\n",
       "      <td>83.255.235.17</td>\n",
       "      <td>2017811</td>\n",
       "      <td>2343421</td>\n",
       "      <td>15.394676</td>\n",
       "    </tr>\n",
       "    <tr>\n",
       "      <th>4309901</th>\n",
       "      <td>samsbox11</td>\n",
       "      <td>2015-06-27 22:27:59</td>\n",
       "      <td>2a00:1450:400e:18::14</td>\n",
       "      <td>1194019</td>\n",
       "      <td>1676055</td>\n",
       "      <td>9.109642</td>\n",
       "    </tr>\n",
       "  </tbody>\n",
       "</table>\n",
       "</div>"
      ],
      "text/plain": [
       "             probe                dtime          video_address  \\\n",
       "4309897  samsbox11  2015-06-27 20:28:18  2a00:1450:400e:18::14   \n",
       "4309898  samsbox11  2015-06-27 21:27:12          83.255.235.17   \n",
       "4309899  samsbox11  2015-06-27 21:28:25  2a00:1450:400e:18::14   \n",
       "4309900  samsbox11  2015-06-27 22:26:50          83.255.235.17   \n",
       "4309901  samsbox11  2015-06-27 22:27:59  2a00:1450:400e:18::14   \n",
       "\n",
       "         video_download_bytes_sec  audio_download_bytes_sec  video_mbits  \n",
       "4309897                   1522592                     15145    11.616455  \n",
       "4309898                   2474828                   2593647    18.881439  \n",
       "4309899                    622718                    818561     4.750961  \n",
       "4309900                   2017811                   2343421    15.394676  \n",
       "4309901                   1194019                   1676055     9.109642  "
      ]
     },
     "execution_count": 117,
     "metadata": {},
     "output_type": "execute_result"
    }
   ],
   "source": [
    "df_time_period.tail()"
   ]
  },
  {
   "cell_type": "code",
   "execution_count": 15,
   "metadata": {
    "collapsed": true
   },
   "outputs": [],
   "source": [
    "def round_time_to_nearest_hour(dtime):\n",
    "    import datetime;    \n",
    "    d = datetime.datetime.strptime(dtime, \"%Y-%m-%d %H:%M:%S\")\n",
    "    d = d.replace(minute=0, second=0)\n",
    "    dtime = d.strftime('%Y-%m-%d %H:%M:%S')\n",
    "    return dtime"
   ]
  },
  {
   "cell_type": "code",
   "execution_count": 16,
   "metadata": {
    "collapsed": true
   },
   "outputs": [],
   "source": [
    "df['dtime'] = df['dtime'].apply(round_time_to_nearest_hour)"
   ]
  },
  {
   "cell_type": "code",
   "execution_count": 17,
   "metadata": {
    "collapsed": false
   },
   "outputs": [
    {
     "data": {
      "text/html": [
       "<div>\n",
       "<style scoped>\n",
       "    .dataframe tbody tr th:only-of-type {\n",
       "        vertical-align: middle;\n",
       "    }\n",
       "\n",
       "    .dataframe tbody tr th {\n",
       "        vertical-align: top;\n",
       "    }\n",
       "\n",
       "    .dataframe thead th {\n",
       "        text-align: right;\n",
       "    }\n",
       "</style>\n",
       "<table border=\"1\" class=\"dataframe\">\n",
       "  <thead>\n",
       "    <tr style=\"text-align: right;\">\n",
       "      <th></th>\n",
       "      <th>probe</th>\n",
       "      <th>dtime</th>\n",
       "      <th>video_address</th>\n",
       "      <th>video_download_bytes_sec</th>\n",
       "      <th>audio_download_bytes_sec</th>\n",
       "      <th>video_mbits</th>\n",
       "    </tr>\n",
       "  </thead>\n",
       "  <tbody>\n",
       "    <tr>\n",
       "      <th>0</th>\n",
       "      <td>samsbox81</td>\n",
       "      <td>2016-09-05 16:00:00</td>\n",
       "      <td>193.212.4.15</td>\n",
       "      <td>2006335</td>\n",
       "      <td>1242187</td>\n",
       "      <td>15.307121</td>\n",
       "    </tr>\n",
       "    <tr>\n",
       "      <th>1</th>\n",
       "      <td>samsbox81</td>\n",
       "      <td>2016-09-05 16:00:00</td>\n",
       "      <td>2001:4600:9:307::f</td>\n",
       "      <td>2032809</td>\n",
       "      <td>1146949</td>\n",
       "      <td>15.509102</td>\n",
       "    </tr>\n",
       "    <tr>\n",
       "      <th>2</th>\n",
       "      <td>samsbox81</td>\n",
       "      <td>2016-09-05 17:00:00</td>\n",
       "      <td>193.212.4.15</td>\n",
       "      <td>1946785</td>\n",
       "      <td>1214358</td>\n",
       "      <td>14.852791</td>\n",
       "    </tr>\n",
       "    <tr>\n",
       "      <th>3</th>\n",
       "      <td>samsbox81</td>\n",
       "      <td>2016-09-05 17:00:00</td>\n",
       "      <td>2001:4600:9:307::f</td>\n",
       "      <td>2008980</td>\n",
       "      <td>889966</td>\n",
       "      <td>15.327301</td>\n",
       "    </tr>\n",
       "    <tr>\n",
       "      <th>4</th>\n",
       "      <td>samsbox81</td>\n",
       "      <td>2016-09-05 18:00:00</td>\n",
       "      <td>193.212.4.15</td>\n",
       "      <td>1927047</td>\n",
       "      <td>1181569</td>\n",
       "      <td>14.702202</td>\n",
       "    </tr>\n",
       "  </tbody>\n",
       "</table>\n",
       "</div>"
      ],
      "text/plain": [
       "       probe                dtime       video_address  \\\n",
       "0  samsbox81  2016-09-05 16:00:00        193.212.4.15   \n",
       "1  samsbox81  2016-09-05 16:00:00  2001:4600:9:307::f   \n",
       "2  samsbox81  2016-09-05 17:00:00        193.212.4.15   \n",
       "3  samsbox81  2016-09-05 17:00:00  2001:4600:9:307::f   \n",
       "4  samsbox81  2016-09-05 18:00:00        193.212.4.15   \n",
       "\n",
       "   video_download_bytes_sec  audio_download_bytes_sec  video_mbits  \n",
       "0                   2006335                   1242187    15.307121  \n",
       "1                   2032809                   1146949    15.509102  \n",
       "2                   1946785                   1214358    14.852791  \n",
       "3                   2008980                    889966    15.327301  \n",
       "4                   1927047                   1181569    14.702202  "
      ]
     },
     "execution_count": 17,
     "metadata": {},
     "output_type": "execute_result"
    }
   ],
   "source": [
    "df.head()"
   ]
  },
  {
   "cell_type": "code",
   "execution_count": 18,
   "metadata": {
    "collapsed": false
   },
   "outputs": [
    {
     "name": "stdout",
     "output_type": "stream",
     "text": [
      "Data set from 2014-08-20 01:00:00 until 2017-06-27 23:00:00\n"
     ]
    }
   ],
   "source": [
    "time_begin = df[\"dtime\"].min()\n",
    "time_end = df[\"dtime\"].max()\n",
    "print(\"Data set from \" + str(time_begin) + \" until \" + str(time_end))"
   ]
  },
  {
   "cell_type": "code",
   "execution_count": 19,
   "metadata": {
    "collapsed": true
   },
   "outputs": [],
   "source": [
    "num_probes = len(set(df['probe']))"
   ]
  },
  {
   "cell_type": "code",
   "execution_count": 20,
   "metadata": {
    "collapsed": false
   },
   "outputs": [
    {
     "data": {
      "text/plain": [
       "probe                       4422465\n",
       "dtime                       4422465\n",
       "video_address               4422465\n",
       "video_download_bytes_sec    4422465\n",
       "audio_download_bytes_sec    4422465\n",
       "video_mbits                 4422465\n",
       "dtype: int64"
      ]
     },
     "execution_count": 20,
     "metadata": {},
     "output_type": "execute_result"
    }
   ],
   "source": [
    "df.count()"
   ]
  },
  {
   "cell_type": "code",
   "execution_count": 21,
   "metadata": {
    "collapsed": true
   },
   "outputs": [],
   "source": [
    "df = df.dropna()"
   ]
  },
  {
   "cell_type": "code",
   "execution_count": 22,
   "metadata": {
    "collapsed": false
   },
   "outputs": [
    {
     "data": {
      "text/plain": [
       "probe                       4422465\n",
       "dtime                       4422465\n",
       "video_address               4422465\n",
       "video_download_bytes_sec    4422465\n",
       "audio_download_bytes_sec    4422465\n",
       "video_mbits                 4422465\n",
       "dtype: int64"
      ]
     },
     "execution_count": 22,
     "metadata": {},
     "output_type": "execute_result"
    }
   ],
   "source": [
    "df.count()"
   ]
  },
  {
   "cell_type": "code",
   "execution_count": 23,
   "metadata": {
    "collapsed": true
   },
   "outputs": [],
   "source": [
    "df['v_MB_sec'] = df['video_download_bytes_sec'].div(1024).div(1024)\n",
    "df['a_MB_sec'] = df['audio_download_bytes_sec'].div(1024).div(1024)\n",
    "\n",
    "del df['video_download_bytes_sec']\n",
    "del df['audio_download_bytes_sec']"
   ]
  },
  {
   "cell_type": "code",
   "execution_count": 24,
   "metadata": {
    "collapsed": true
   },
   "outputs": [],
   "source": [
    "def filter_by_ip(df, column):\n",
    "  \"\"\"reads a DataFrame, calls fbi.filter_v{4,6} to get DataFrames with rows\n",
    "     containing only v4, v6 endpoints. Returns the two DataFrame as a tuple\"\"\"\n",
    "\n",
    "  dfv6 = fbi.filter_v6(df, column)\n",
    "  dfv4 = fbi.filter_v4(df, column)\n",
    "  return dfv4, dfv6"
   ]
  },
  {
   "cell_type": "code",
   "execution_count": 25,
   "metadata": {
    "collapsed": true
   },
   "outputs": [],
   "source": [
    "dfv4, dfv6 = filter_by_ip(df, column = 'video_address')"
   ]
  },
  {
   "cell_type": "code",
   "execution_count": 26,
   "metadata": {
    "collapsed": true
   },
   "outputs": [],
   "source": [
    "dfv4['name'] = dfv4['probe'].apply(lambda name: \"#%02d\"%int(name[7:]))\n",
    "dfv6['name'] = dfv6['probe'].apply(lambda name: \"#%02d\"%int(name[7:]))\n",
    "del dfv4['probe']; del dfv6['probe']"
   ]
  },
  {
   "cell_type": "code",
   "execution_count": 27,
   "metadata": {
    "collapsed": false
   },
   "outputs": [
    {
     "data": {
      "text/html": [
       "<div>\n",
       "<style scoped>\n",
       "    .dataframe tbody tr th:only-of-type {\n",
       "        vertical-align: middle;\n",
       "    }\n",
       "\n",
       "    .dataframe tbody tr th {\n",
       "        vertical-align: top;\n",
       "    }\n",
       "\n",
       "    .dataframe thead th {\n",
       "        text-align: right;\n",
       "    }\n",
       "</style>\n",
       "<table border=\"1\" class=\"dataframe\">\n",
       "  <thead>\n",
       "    <tr style=\"text-align: right;\">\n",
       "      <th></th>\n",
       "      <th>dtime</th>\n",
       "      <th>video_address</th>\n",
       "      <th>video_mbits</th>\n",
       "      <th>v_MB_sec</th>\n",
       "      <th>a_MB_sec</th>\n",
       "      <th>name</th>\n",
       "    </tr>\n",
       "  </thead>\n",
       "  <tbody>\n",
       "    <tr>\n",
       "      <th>0</th>\n",
       "      <td>2016-09-05 16:00:00</td>\n",
       "      <td>193.212.4.15</td>\n",
       "      <td>15.307121</td>\n",
       "      <td>1.913390</td>\n",
       "      <td>1.184642</td>\n",
       "      <td>#81</td>\n",
       "    </tr>\n",
       "    <tr>\n",
       "      <th>2</th>\n",
       "      <td>2016-09-05 17:00:00</td>\n",
       "      <td>193.212.4.15</td>\n",
       "      <td>14.852791</td>\n",
       "      <td>1.856599</td>\n",
       "      <td>1.158102</td>\n",
       "      <td>#81</td>\n",
       "    </tr>\n",
       "    <tr>\n",
       "      <th>4</th>\n",
       "      <td>2016-09-05 18:00:00</td>\n",
       "      <td>193.212.4.15</td>\n",
       "      <td>14.702202</td>\n",
       "      <td>1.837775</td>\n",
       "      <td>1.126832</td>\n",
       "      <td>#81</td>\n",
       "    </tr>\n",
       "    <tr>\n",
       "      <th>6</th>\n",
       "      <td>2016-09-05 19:00:00</td>\n",
       "      <td>193.212.4.15</td>\n",
       "      <td>15.251617</td>\n",
       "      <td>1.906452</td>\n",
       "      <td>1.091392</td>\n",
       "      <td>#81</td>\n",
       "    </tr>\n",
       "    <tr>\n",
       "      <th>8</th>\n",
       "      <td>2016-09-05 20:00:00</td>\n",
       "      <td>193.212.4.15</td>\n",
       "      <td>15.171806</td>\n",
       "      <td>1.896476</td>\n",
       "      <td>0.974868</td>\n",
       "      <td>#81</td>\n",
       "    </tr>\n",
       "  </tbody>\n",
       "</table>\n",
       "</div>"
      ],
      "text/plain": [
       "                 dtime video_address  video_mbits  v_MB_sec  a_MB_sec name\n",
       "0  2016-09-05 16:00:00  193.212.4.15    15.307121  1.913390  1.184642  #81\n",
       "2  2016-09-05 17:00:00  193.212.4.15    14.852791  1.856599  1.158102  #81\n",
       "4  2016-09-05 18:00:00  193.212.4.15    14.702202  1.837775  1.126832  #81\n",
       "6  2016-09-05 19:00:00  193.212.4.15    15.251617  1.906452  1.091392  #81\n",
       "8  2016-09-05 20:00:00  193.212.4.15    15.171806  1.896476  0.974868  #81"
      ]
     },
     "execution_count": 27,
     "metadata": {},
     "output_type": "execute_result"
    }
   ],
   "source": [
    "dfv4.head()"
   ]
  },
  {
   "cell_type": "code",
   "execution_count": 28,
   "metadata": {
    "collapsed": false
   },
   "outputs": [
    {
     "data": {
      "text/html": [
       "<div>\n",
       "<style scoped>\n",
       "    .dataframe tbody tr th:only-of-type {\n",
       "        vertical-align: middle;\n",
       "    }\n",
       "\n",
       "    .dataframe tbody tr th {\n",
       "        vertical-align: top;\n",
       "    }\n",
       "\n",
       "    .dataframe thead th {\n",
       "        text-align: right;\n",
       "    }\n",
       "</style>\n",
       "<table border=\"1\" class=\"dataframe\">\n",
       "  <thead>\n",
       "    <tr style=\"text-align: right;\">\n",
       "      <th></th>\n",
       "      <th>dtime</th>\n",
       "      <th>video_address</th>\n",
       "      <th>video_mbits</th>\n",
       "      <th>v_MB_sec</th>\n",
       "      <th>a_MB_sec</th>\n",
       "      <th>name</th>\n",
       "    </tr>\n",
       "  </thead>\n",
       "  <tbody>\n",
       "    <tr>\n",
       "      <th>1</th>\n",
       "      <td>2016-09-05 16:00:00</td>\n",
       "      <td>2001:4600:9:307::f</td>\n",
       "      <td>15.509102</td>\n",
       "      <td>1.938638</td>\n",
       "      <td>1.093816</td>\n",
       "      <td>#81</td>\n",
       "    </tr>\n",
       "    <tr>\n",
       "      <th>3</th>\n",
       "      <td>2016-09-05 17:00:00</td>\n",
       "      <td>2001:4600:9:307::f</td>\n",
       "      <td>15.327301</td>\n",
       "      <td>1.915913</td>\n",
       "      <td>0.848738</td>\n",
       "      <td>#81</td>\n",
       "    </tr>\n",
       "    <tr>\n",
       "      <th>5</th>\n",
       "      <td>2016-09-05 18:00:00</td>\n",
       "      <td>2001:4600:9:307::f</td>\n",
       "      <td>14.570908</td>\n",
       "      <td>1.821363</td>\n",
       "      <td>1.107177</td>\n",
       "      <td>#81</td>\n",
       "    </tr>\n",
       "    <tr>\n",
       "      <th>7</th>\n",
       "      <td>2016-09-05 19:00:00</td>\n",
       "      <td>2001:4600:9:307::f</td>\n",
       "      <td>14.677574</td>\n",
       "      <td>1.834697</td>\n",
       "      <td>1.188632</td>\n",
       "      <td>#81</td>\n",
       "    </tr>\n",
       "    <tr>\n",
       "      <th>9</th>\n",
       "      <td>2016-09-05 20:00:00</td>\n",
       "      <td>2001:4600:9:307::f</td>\n",
       "      <td>15.274780</td>\n",
       "      <td>1.909348</td>\n",
       "      <td>0.801767</td>\n",
       "      <td>#81</td>\n",
       "    </tr>\n",
       "  </tbody>\n",
       "</table>\n",
       "</div>"
      ],
      "text/plain": [
       "                 dtime       video_address  video_mbits  v_MB_sec  a_MB_sec  \\\n",
       "1  2016-09-05 16:00:00  2001:4600:9:307::f    15.509102  1.938638  1.093816   \n",
       "3  2016-09-05 17:00:00  2001:4600:9:307::f    15.327301  1.915913  0.848738   \n",
       "5  2016-09-05 18:00:00  2001:4600:9:307::f    14.570908  1.821363  1.107177   \n",
       "7  2016-09-05 19:00:00  2001:4600:9:307::f    14.677574  1.834697  1.188632   \n",
       "9  2016-09-05 20:00:00  2001:4600:9:307::f    15.274780  1.909348  0.801767   \n",
       "\n",
       "  name  \n",
       "1  #81  \n",
       "3  #81  \n",
       "5  #81  \n",
       "7  #81  \n",
       "9  #81  "
      ]
     },
     "execution_count": 28,
     "metadata": {},
     "output_type": "execute_result"
    }
   ],
   "source": [
    "dfv6.head()"
   ]
  },
  {
   "cell_type": "code",
   "execution_count": 29,
   "metadata": {
    "collapsed": false
   },
   "outputs": [
    {
     "data": {
      "text/plain": [
       "24637"
      ]
     },
     "execution_count": 29,
     "metadata": {},
     "output_type": "execute_result"
    }
   ],
   "source": [
    "dfv4['dtime'].nunique()"
   ]
  },
  {
   "cell_type": "code",
   "execution_count": 30,
   "metadata": {
    "collapsed": false
   },
   "outputs": [
    {
     "data": {
      "text/plain": [
       "dtime            2379444\n",
       "video_address    2379444\n",
       "video_mbits      2379444\n",
       "v_MB_sec         2379444\n",
       "a_MB_sec         2379444\n",
       "name             2379444\n",
       "dtype: int64"
      ]
     },
     "execution_count": 30,
     "metadata": {},
     "output_type": "execute_result"
    }
   ],
   "source": [
    "dfv4.count()"
   ]
  },
  {
   "cell_type": "code",
   "execution_count": 31,
   "metadata": {
    "collapsed": false
   },
   "outputs": [],
   "source": [
    "unique_v4_values = dfv4.groupby('dtime')['video_mbits'].nunique()"
   ]
  },
  {
   "cell_type": "code",
   "execution_count": 32,
   "metadata": {
    "collapsed": false
   },
   "outputs": [
    {
     "data": {
      "text/plain": [
       "count    24637.000000\n",
       "mean        51.829444\n",
       "std         21.256738\n",
       "min          1.000000\n",
       "25%         37.000000\n",
       "50%         59.000000\n",
       "75%         65.000000\n",
       "max         87.000000\n",
       "Name: video_mbits, dtype: float64"
      ]
     },
     "execution_count": 32,
     "metadata": {},
     "output_type": "execute_result"
    }
   ],
   "source": [
    "unique_v4_values.describe()"
   ]
  },
  {
   "cell_type": "code",
   "execution_count": 33,
   "metadata": {
    "collapsed": false
   },
   "outputs": [],
   "source": [
    "unique_v4_greater10 = unique_v4_values[unique_v4_values > 10]"
   ]
  },
  {
   "cell_type": "code",
   "execution_count": 34,
   "metadata": {
    "collapsed": false
   },
   "outputs": [
    {
     "data": {
      "text/plain": [
       "dtime\n",
       "2014-08-26 15:00:00    16\n",
       "2014-08-26 16:00:00    16\n",
       "2014-08-26 17:00:00    16\n",
       "2014-08-26 18:00:00    16\n",
       "2014-08-26 19:00:00    17\n",
       "Name: video_mbits, dtype: int64"
      ]
     },
     "execution_count": 34,
     "metadata": {},
     "output_type": "execute_result"
    }
   ],
   "source": [
    "unique_v4_greater10.head()"
   ]
  },
  {
   "cell_type": "code",
   "execution_count": 35,
   "metadata": {
    "collapsed": false
   },
   "outputs": [],
   "source": [
    "dfv4_min = dfv4.groupby('dtime').min()\n",
    "dfv4_max = dfv4.groupby('dtime').max()\n",
    "#qv6 = dfv6.groupby('dtime').quantile([0.05, 0.1, 0,25, 0.5, 0.75, 0.9, 0.95])\n",
    "dfv6_min = dfv6.groupby('dtime').min()\n",
    "dfv6_max = dfv6.groupby('dtime').max()\n",
    "\n",
    "del dfv4_min['video_address']; del dfv6_min['video_address']; del dfv4_min['name']; del dfv6_min['name']\n",
    "\n",
    "del dfv4_max['video_address']; del dfv6_max['video_address']; del dfv4_max['name']; del dfv6_max['name']"
   ]
  },
  {
   "cell_type": "code",
   "execution_count": 36,
   "metadata": {
    "collapsed": false
   },
   "outputs": [
    {
     "data": {
      "text/html": [
       "<div>\n",
       "<style scoped>\n",
       "    .dataframe tbody tr th:only-of-type {\n",
       "        vertical-align: middle;\n",
       "    }\n",
       "\n",
       "    .dataframe tbody tr th {\n",
       "        vertical-align: top;\n",
       "    }\n",
       "\n",
       "    .dataframe thead th {\n",
       "        text-align: right;\n",
       "    }\n",
       "</style>\n",
       "<table border=\"1\" class=\"dataframe\">\n",
       "  <thead>\n",
       "    <tr style=\"text-align: right;\">\n",
       "      <th></th>\n",
       "      <th>video_mbits</th>\n",
       "      <th>v_MB_sec</th>\n",
       "      <th>a_MB_sec</th>\n",
       "    </tr>\n",
       "    <tr>\n",
       "      <th>dtime</th>\n",
       "      <th></th>\n",
       "      <th></th>\n",
       "      <th></th>\n",
       "    </tr>\n",
       "  </thead>\n",
       "  <tbody>\n",
       "    <tr>\n",
       "      <th>2014-08-20 01:00:00</th>\n",
       "      <td>3.490326</td>\n",
       "      <td>0.436291</td>\n",
       "      <td>0.077405</td>\n",
       "    </tr>\n",
       "    <tr>\n",
       "      <th>2014-08-20 04:00:00</th>\n",
       "      <td>3.485725</td>\n",
       "      <td>0.435716</td>\n",
       "      <td>0.079950</td>\n",
       "    </tr>\n",
       "    <tr>\n",
       "      <th>2014-08-20 06:00:00</th>\n",
       "      <td>3.471138</td>\n",
       "      <td>0.433892</td>\n",
       "      <td>0.079645</td>\n",
       "    </tr>\n",
       "    <tr>\n",
       "      <th>2014-08-20 08:00:00</th>\n",
       "      <td>3.484932</td>\n",
       "      <td>0.435616</td>\n",
       "      <td>0.079309</td>\n",
       "    </tr>\n",
       "    <tr>\n",
       "      <th>2014-08-20 09:00:00</th>\n",
       "      <td>3.505684</td>\n",
       "      <td>0.438210</td>\n",
       "      <td>0.080091</td>\n",
       "    </tr>\n",
       "  </tbody>\n",
       "</table>\n",
       "</div>"
      ],
      "text/plain": [
       "                     video_mbits  v_MB_sec  a_MB_sec\n",
       "dtime                                               \n",
       "2014-08-20 01:00:00     3.490326  0.436291  0.077405\n",
       "2014-08-20 04:00:00     3.485725  0.435716  0.079950\n",
       "2014-08-20 06:00:00     3.471138  0.433892  0.079645\n",
       "2014-08-20 08:00:00     3.484932  0.435616  0.079309\n",
       "2014-08-20 09:00:00     3.505684  0.438210  0.080091"
      ]
     },
     "execution_count": 36,
     "metadata": {},
     "output_type": "execute_result"
    }
   ],
   "source": [
    "dfv4_min.head()"
   ]
  },
  {
   "cell_type": "code",
   "execution_count": 37,
   "metadata": {
    "collapsed": false
   },
   "outputs": [],
   "source": [
    "dfv4_median = dfv4.groupby('dtime').median()\n",
    "dfv6_median = dfv6.groupby('dtime').median()\n",
    "dfv4_q5 = dfv4.groupby('dtime').quantile(0.05)\n",
    "dfv6_q5 = dfv6.groupby('dtime').quantile(0.05)\n",
    "dfv4_q10 = dfv4.groupby('dtime').quantile(0.1)\n",
    "dfv6_q10 = dfv6.groupby('dtime').quantile(0.1)\n",
    "dfv4_q25 = dfv4.groupby('dtime').quantile(0.25)\n",
    "dfv6_q25 = dfv6.groupby('dtime').quantile(0.25)\n",
    "dfv4_q75 = dfv4.groupby('dtime').quantile(0.75)\n",
    "dfv6_q75 = dfv6.groupby('dtime').quantile(0.75)\n",
    "dfv4_q90 = dfv4.groupby('dtime').quantile(0.90)\n",
    "dfv6_q90 = dfv6.groupby('dtime').quantile(0.90)\n",
    "dfv4_q95 = dfv4.groupby('dtime').quantile(0.95)\n",
    "dfv6_q95 = dfv6.groupby('dtime').quantile(0.95)"
   ]
  },
  {
   "cell_type": "code",
   "execution_count": 38,
   "metadata": {
    "collapsed": false
   },
   "outputs": [],
   "source": [
    "dfv4_agg = pd.DataFrame(data = {\"q00\": dfv4_min[\"video_mbits\"],\n",
    "                               \"q_max\": dfv4_max[\"video_mbits\"],\n",
    "                        \"q05\": dfv4_q5[\"video_mbits\"],\n",
    "                        \"q10\": dfv4_q10[\"video_mbits\"],\n",
    "                        \"q25\": dfv4_q25[\"video_mbits\"],\n",
    "                        \"q50\": dfv4_median[\"video_mbits\"],\n",
    "                        \"q75\": dfv4_q75[\"video_mbits\"],\n",
    "                        \"q90\": dfv4_q90[\"video_mbits\"],\n",
    "                        \"q95\": dfv4_q95[\"video_mbits\"]})\n",
    "\n",
    "dfv6_agg = pd.DataFrame(data = {\"q00\": dfv6_min[\"video_mbits\"],\n",
    "                               \"q_max\": dfv6_max[\"video_mbits\"],\n",
    "                        \"q05\": dfv6_q5[\"video_mbits\"],\n",
    "                        \"q10\": dfv6_q10[\"video_mbits\"],\n",
    "                        \"q25\": dfv6_q25[\"video_mbits\"],\n",
    "                        \"q50\": dfv6_median[\"video_mbits\"],\n",
    "                        \"q75\": dfv6_q75[\"video_mbits\"],\n",
    "                        \"q90\": dfv6_q90[\"video_mbits\"],\n",
    "                        \"q95\": dfv6_q95[\"video_mbits\"]})"
   ]
  },
  {
   "cell_type": "code",
   "execution_count": 39,
   "metadata": {
    "collapsed": false
   },
   "outputs": [
    {
     "data": {
      "text/html": [
       "<div>\n",
       "<style scoped>\n",
       "    .dataframe tbody tr th:only-of-type {\n",
       "        vertical-align: middle;\n",
       "    }\n",
       "\n",
       "    .dataframe tbody tr th {\n",
       "        vertical-align: top;\n",
       "    }\n",
       "\n",
       "    .dataframe thead th {\n",
       "        text-align: right;\n",
       "    }\n",
       "</style>\n",
       "<table border=\"1\" class=\"dataframe\">\n",
       "  <thead>\n",
       "    <tr style=\"text-align: right;\">\n",
       "      <th></th>\n",
       "      <th>q00</th>\n",
       "      <th>q05</th>\n",
       "      <th>q10</th>\n",
       "      <th>q25</th>\n",
       "      <th>q50</th>\n",
       "      <th>q75</th>\n",
       "      <th>q90</th>\n",
       "      <th>q95</th>\n",
       "      <th>q_max</th>\n",
       "    </tr>\n",
       "    <tr>\n",
       "      <th>dtime</th>\n",
       "      <th></th>\n",
       "      <th></th>\n",
       "      <th></th>\n",
       "      <th></th>\n",
       "      <th></th>\n",
       "      <th></th>\n",
       "      <th></th>\n",
       "      <th></th>\n",
       "      <th></th>\n",
       "    </tr>\n",
       "  </thead>\n",
       "  <tbody>\n",
       "    <tr>\n",
       "      <th>2017-06-27 19:00:00</th>\n",
       "      <td>2.199905</td>\n",
       "      <td>4.610089</td>\n",
       "      <td>5.370958</td>\n",
       "      <td>6.093216</td>\n",
       "      <td>6.371414</td>\n",
       "      <td>7.345749</td>\n",
       "      <td>7.687672</td>\n",
       "      <td>7.764685</td>\n",
       "      <td>7.961678</td>\n",
       "    </tr>\n",
       "    <tr>\n",
       "      <th>2017-06-27 20:00:00</th>\n",
       "      <td>2.839798</td>\n",
       "      <td>4.988984</td>\n",
       "      <td>5.782001</td>\n",
       "      <td>6.129763</td>\n",
       "      <td>6.943104</td>\n",
       "      <td>7.309141</td>\n",
       "      <td>7.710672</td>\n",
       "      <td>7.904503</td>\n",
       "      <td>7.976303</td>\n",
       "    </tr>\n",
       "    <tr>\n",
       "      <th>2017-06-27 21:00:00</th>\n",
       "      <td>2.368538</td>\n",
       "      <td>4.717852</td>\n",
       "      <td>5.576828</td>\n",
       "      <td>6.123501</td>\n",
       "      <td>6.860809</td>\n",
       "      <td>7.302942</td>\n",
       "      <td>7.729626</td>\n",
       "      <td>7.812328</td>\n",
       "      <td>8.049530</td>\n",
       "    </tr>\n",
       "    <tr>\n",
       "      <th>2017-06-27 22:00:00</th>\n",
       "      <td>2.566521</td>\n",
       "      <td>3.936543</td>\n",
       "      <td>5.381943</td>\n",
       "      <td>6.131844</td>\n",
       "      <td>6.498375</td>\n",
       "      <td>7.326065</td>\n",
       "      <td>7.716843</td>\n",
       "      <td>7.806919</td>\n",
       "      <td>7.973503</td>\n",
       "    </tr>\n",
       "    <tr>\n",
       "      <th>2017-06-27 23:00:00</th>\n",
       "      <td>3.509148</td>\n",
       "      <td>5.512974</td>\n",
       "      <td>5.947418</td>\n",
       "      <td>6.112835</td>\n",
       "      <td>7.001945</td>\n",
       "      <td>7.468578</td>\n",
       "      <td>7.778685</td>\n",
       "      <td>7.850784</td>\n",
       "      <td>10.627434</td>\n",
       "    </tr>\n",
       "  </tbody>\n",
       "</table>\n",
       "</div>"
      ],
      "text/plain": [
       "                          q00       q05       q10       q25       q50  \\\n",
       "dtime                                                                   \n",
       "2017-06-27 19:00:00  2.199905  4.610089  5.370958  6.093216  6.371414   \n",
       "2017-06-27 20:00:00  2.839798  4.988984  5.782001  6.129763  6.943104   \n",
       "2017-06-27 21:00:00  2.368538  4.717852  5.576828  6.123501  6.860809   \n",
       "2017-06-27 22:00:00  2.566521  3.936543  5.381943  6.131844  6.498375   \n",
       "2017-06-27 23:00:00  3.509148  5.512974  5.947418  6.112835  7.001945   \n",
       "\n",
       "                          q75       q90       q95      q_max  \n",
       "dtime                                                         \n",
       "2017-06-27 19:00:00  7.345749  7.687672  7.764685   7.961678  \n",
       "2017-06-27 20:00:00  7.309141  7.710672  7.904503   7.976303  \n",
       "2017-06-27 21:00:00  7.302942  7.729626  7.812328   8.049530  \n",
       "2017-06-27 22:00:00  7.326065  7.716843  7.806919   7.973503  \n",
       "2017-06-27 23:00:00  7.468578  7.778685  7.850784  10.627434  "
      ]
     },
     "execution_count": 39,
     "metadata": {},
     "output_type": "execute_result"
    }
   ],
   "source": [
    "dfv4_agg.tail()"
   ]
  },
  {
   "cell_type": "code",
   "execution_count": 40,
   "metadata": {
    "collapsed": false
   },
   "outputs": [
    {
     "data": {
      "text/html": [
       "<div>\n",
       "<style scoped>\n",
       "    .dataframe tbody tr th:only-of-type {\n",
       "        vertical-align: middle;\n",
       "    }\n",
       "\n",
       "    .dataframe tbody tr th {\n",
       "        vertical-align: top;\n",
       "    }\n",
       "\n",
       "    .dataframe thead th {\n",
       "        text-align: right;\n",
       "    }\n",
       "</style>\n",
       "<table border=\"1\" class=\"dataframe\">\n",
       "  <thead>\n",
       "    <tr style=\"text-align: right;\">\n",
       "      <th></th>\n",
       "      <th>q00</th>\n",
       "      <th>q05</th>\n",
       "      <th>q10</th>\n",
       "      <th>q25</th>\n",
       "      <th>q50</th>\n",
       "      <th>q75</th>\n",
       "      <th>q90</th>\n",
       "      <th>q95</th>\n",
       "      <th>q_max</th>\n",
       "    </tr>\n",
       "    <tr>\n",
       "      <th>dtime</th>\n",
       "      <th></th>\n",
       "      <th></th>\n",
       "      <th></th>\n",
       "      <th></th>\n",
       "      <th></th>\n",
       "      <th></th>\n",
       "      <th></th>\n",
       "      <th></th>\n",
       "      <th></th>\n",
       "    </tr>\n",
       "  </thead>\n",
       "  <tbody>\n",
       "    <tr>\n",
       "      <th>2017-06-27 19:00:00</th>\n",
       "      <td>3.024315</td>\n",
       "      <td>4.775301</td>\n",
       "      <td>5.730832</td>\n",
       "      <td>6.079414</td>\n",
       "      <td>6.916779</td>\n",
       "      <td>7.298847</td>\n",
       "      <td>7.742220</td>\n",
       "      <td>7.878570</td>\n",
       "      <td>8.144135</td>\n",
       "    </tr>\n",
       "    <tr>\n",
       "      <th>2017-06-27 20:00:00</th>\n",
       "      <td>2.051147</td>\n",
       "      <td>5.050357</td>\n",
       "      <td>5.689194</td>\n",
       "      <td>6.069740</td>\n",
       "      <td>6.967850</td>\n",
       "      <td>7.309910</td>\n",
       "      <td>7.711441</td>\n",
       "      <td>7.887523</td>\n",
       "      <td>8.065536</td>\n",
       "    </tr>\n",
       "    <tr>\n",
       "      <th>2017-06-27 21:00:00</th>\n",
       "      <td>2.093384</td>\n",
       "      <td>3.931990</td>\n",
       "      <td>5.611272</td>\n",
       "      <td>6.070543</td>\n",
       "      <td>6.898853</td>\n",
       "      <td>7.290825</td>\n",
       "      <td>7.771281</td>\n",
       "      <td>7.880476</td>\n",
       "      <td>8.021378</td>\n",
       "    </tr>\n",
       "    <tr>\n",
       "      <th>2017-06-27 22:00:00</th>\n",
       "      <td>2.787888</td>\n",
       "      <td>4.018410</td>\n",
       "      <td>5.328316</td>\n",
       "      <td>6.064194</td>\n",
       "      <td>6.710236</td>\n",
       "      <td>7.311813</td>\n",
       "      <td>7.825752</td>\n",
       "      <td>7.868347</td>\n",
       "      <td>7.999786</td>\n",
       "    </tr>\n",
       "    <tr>\n",
       "      <th>2017-06-27 23:00:00</th>\n",
       "      <td>4.174294</td>\n",
       "      <td>5.025371</td>\n",
       "      <td>5.777600</td>\n",
       "      <td>6.083076</td>\n",
       "      <td>7.077744</td>\n",
       "      <td>7.350975</td>\n",
       "      <td>7.776492</td>\n",
       "      <td>7.874297</td>\n",
       "      <td>7.988586</td>\n",
       "    </tr>\n",
       "  </tbody>\n",
       "</table>\n",
       "</div>"
      ],
      "text/plain": [
       "                          q00       q05       q10       q25       q50  \\\n",
       "dtime                                                                   \n",
       "2017-06-27 19:00:00  3.024315  4.775301  5.730832  6.079414  6.916779   \n",
       "2017-06-27 20:00:00  2.051147  5.050357  5.689194  6.069740  6.967850   \n",
       "2017-06-27 21:00:00  2.093384  3.931990  5.611272  6.070543  6.898853   \n",
       "2017-06-27 22:00:00  2.787888  4.018410  5.328316  6.064194  6.710236   \n",
       "2017-06-27 23:00:00  4.174294  5.025371  5.777600  6.083076  7.077744   \n",
       "\n",
       "                          q75       q90       q95     q_max  \n",
       "dtime                                                        \n",
       "2017-06-27 19:00:00  7.298847  7.742220  7.878570  8.144135  \n",
       "2017-06-27 20:00:00  7.309910  7.711441  7.887523  8.065536  \n",
       "2017-06-27 21:00:00  7.290825  7.771281  7.880476  8.021378  \n",
       "2017-06-27 22:00:00  7.311813  7.825752  7.868347  7.999786  \n",
       "2017-06-27 23:00:00  7.350975  7.776492  7.874297  7.988586  "
      ]
     },
     "execution_count": 40,
     "metadata": {},
     "output_type": "execute_result"
    }
   ],
   "source": [
    "dfv6_agg.tail()"
   ]
  },
  {
   "cell_type": "code",
   "execution_count": 41,
   "metadata": {
    "collapsed": true
   },
   "outputs": [],
   "source": [
    "df = pd.merge(dfv4_agg, dfv6_agg, on=[\"dtime\"])"
   ]
  },
  {
   "cell_type": "code",
   "execution_count": 42,
   "metadata": {
    "collapsed": false
   },
   "outputs": [
    {
     "data": {
      "text/plain": [
       "q00_x      24602\n",
       "q05_x      24602\n",
       "q10_x      24602\n",
       "q25_x      24602\n",
       "q50_x      24602\n",
       "q75_x      24602\n",
       "q90_x      24602\n",
       "q95_x      24602\n",
       "q_max_x    24602\n",
       "q00_y      24602\n",
       "q05_y      24602\n",
       "q10_y      24602\n",
       "q25_y      24602\n",
       "q50_y      24602\n",
       "q75_y      24602\n",
       "q90_y      24602\n",
       "q95_y      24602\n",
       "q_max_y    24602\n",
       "dtype: int64"
      ]
     },
     "execution_count": 42,
     "metadata": {},
     "output_type": "execute_result"
    }
   ],
   "source": [
    "df.count()"
   ]
  },
  {
   "cell_type": "code",
   "execution_count": 43,
   "metadata": {
    "collapsed": true
   },
   "outputs": [],
   "source": [
    "df.index.name = 'dtime'\n",
    "df.reset_index(inplace=True)"
   ]
  },
  {
   "cell_type": "code",
   "execution_count": 44,
   "metadata": {
    "collapsed": false
   },
   "outputs": [
    {
     "data": {
      "text/html": [
       "<div>\n",
       "<style scoped>\n",
       "    .dataframe tbody tr th:only-of-type {\n",
       "        vertical-align: middle;\n",
       "    }\n",
       "\n",
       "    .dataframe tbody tr th {\n",
       "        vertical-align: top;\n",
       "    }\n",
       "\n",
       "    .dataframe thead th {\n",
       "        text-align: right;\n",
       "    }\n",
       "</style>\n",
       "<table border=\"1\" class=\"dataframe\">\n",
       "  <thead>\n",
       "    <tr style=\"text-align: right;\">\n",
       "      <th></th>\n",
       "      <th>dtime</th>\n",
       "      <th>q00_x</th>\n",
       "      <th>q05_x</th>\n",
       "      <th>q10_x</th>\n",
       "      <th>q25_x</th>\n",
       "      <th>q50_x</th>\n",
       "      <th>q75_x</th>\n",
       "      <th>q90_x</th>\n",
       "      <th>q95_x</th>\n",
       "      <th>q_max_x</th>\n",
       "      <th>q00_y</th>\n",
       "      <th>q05_y</th>\n",
       "      <th>q10_y</th>\n",
       "      <th>q25_y</th>\n",
       "      <th>q50_y</th>\n",
       "      <th>q75_y</th>\n",
       "      <th>q90_y</th>\n",
       "      <th>q95_y</th>\n",
       "      <th>q_max_y</th>\n",
       "    </tr>\n",
       "  </thead>\n",
       "  <tbody>\n",
       "    <tr>\n",
       "      <th>24597</th>\n",
       "      <td>2017-06-27 19:00:00</td>\n",
       "      <td>2.199905</td>\n",
       "      <td>4.610089</td>\n",
       "      <td>5.370958</td>\n",
       "      <td>6.093216</td>\n",
       "      <td>6.371414</td>\n",
       "      <td>7.345749</td>\n",
       "      <td>7.687672</td>\n",
       "      <td>7.764685</td>\n",
       "      <td>7.961678</td>\n",
       "      <td>3.024315</td>\n",
       "      <td>4.775301</td>\n",
       "      <td>5.730832</td>\n",
       "      <td>6.079414</td>\n",
       "      <td>6.916779</td>\n",
       "      <td>7.298847</td>\n",
       "      <td>7.742220</td>\n",
       "      <td>7.878570</td>\n",
       "      <td>8.144135</td>\n",
       "    </tr>\n",
       "    <tr>\n",
       "      <th>24598</th>\n",
       "      <td>2017-06-27 20:00:00</td>\n",
       "      <td>2.839798</td>\n",
       "      <td>4.988984</td>\n",
       "      <td>5.782001</td>\n",
       "      <td>6.129763</td>\n",
       "      <td>6.943104</td>\n",
       "      <td>7.309141</td>\n",
       "      <td>7.710672</td>\n",
       "      <td>7.904503</td>\n",
       "      <td>7.976303</td>\n",
       "      <td>2.051147</td>\n",
       "      <td>5.050357</td>\n",
       "      <td>5.689194</td>\n",
       "      <td>6.069740</td>\n",
       "      <td>6.967850</td>\n",
       "      <td>7.309910</td>\n",
       "      <td>7.711441</td>\n",
       "      <td>7.887523</td>\n",
       "      <td>8.065536</td>\n",
       "    </tr>\n",
       "    <tr>\n",
       "      <th>24599</th>\n",
       "      <td>2017-06-27 21:00:00</td>\n",
       "      <td>2.368538</td>\n",
       "      <td>4.717852</td>\n",
       "      <td>5.576828</td>\n",
       "      <td>6.123501</td>\n",
       "      <td>6.860809</td>\n",
       "      <td>7.302942</td>\n",
       "      <td>7.729626</td>\n",
       "      <td>7.812328</td>\n",
       "      <td>8.049530</td>\n",
       "      <td>2.093384</td>\n",
       "      <td>3.931990</td>\n",
       "      <td>5.611272</td>\n",
       "      <td>6.070543</td>\n",
       "      <td>6.898853</td>\n",
       "      <td>7.290825</td>\n",
       "      <td>7.771281</td>\n",
       "      <td>7.880476</td>\n",
       "      <td>8.021378</td>\n",
       "    </tr>\n",
       "    <tr>\n",
       "      <th>24600</th>\n",
       "      <td>2017-06-27 22:00:00</td>\n",
       "      <td>2.566521</td>\n",
       "      <td>3.936543</td>\n",
       "      <td>5.381943</td>\n",
       "      <td>6.131844</td>\n",
       "      <td>6.498375</td>\n",
       "      <td>7.326065</td>\n",
       "      <td>7.716843</td>\n",
       "      <td>7.806919</td>\n",
       "      <td>7.973503</td>\n",
       "      <td>2.787888</td>\n",
       "      <td>4.018410</td>\n",
       "      <td>5.328316</td>\n",
       "      <td>6.064194</td>\n",
       "      <td>6.710236</td>\n",
       "      <td>7.311813</td>\n",
       "      <td>7.825752</td>\n",
       "      <td>7.868347</td>\n",
       "      <td>7.999786</td>\n",
       "    </tr>\n",
       "    <tr>\n",
       "      <th>24601</th>\n",
       "      <td>2017-06-27 23:00:00</td>\n",
       "      <td>3.509148</td>\n",
       "      <td>5.512974</td>\n",
       "      <td>5.947418</td>\n",
       "      <td>6.112835</td>\n",
       "      <td>7.001945</td>\n",
       "      <td>7.468578</td>\n",
       "      <td>7.778685</td>\n",
       "      <td>7.850784</td>\n",
       "      <td>10.627434</td>\n",
       "      <td>4.174294</td>\n",
       "      <td>5.025371</td>\n",
       "      <td>5.777600</td>\n",
       "      <td>6.083076</td>\n",
       "      <td>7.077744</td>\n",
       "      <td>7.350975</td>\n",
       "      <td>7.776492</td>\n",
       "      <td>7.874297</td>\n",
       "      <td>7.988586</td>\n",
       "    </tr>\n",
       "  </tbody>\n",
       "</table>\n",
       "</div>"
      ],
      "text/plain": [
       "                     dtime     q00_x     q05_x     q10_x     q25_x     q50_x  \\\n",
       "24597  2017-06-27 19:00:00  2.199905  4.610089  5.370958  6.093216  6.371414   \n",
       "24598  2017-06-27 20:00:00  2.839798  4.988984  5.782001  6.129763  6.943104   \n",
       "24599  2017-06-27 21:00:00  2.368538  4.717852  5.576828  6.123501  6.860809   \n",
       "24600  2017-06-27 22:00:00  2.566521  3.936543  5.381943  6.131844  6.498375   \n",
       "24601  2017-06-27 23:00:00  3.509148  5.512974  5.947418  6.112835  7.001945   \n",
       "\n",
       "          q75_x     q90_x     q95_x    q_max_x     q00_y     q05_y     q10_y  \\\n",
       "24597  7.345749  7.687672  7.764685   7.961678  3.024315  4.775301  5.730832   \n",
       "24598  7.309141  7.710672  7.904503   7.976303  2.051147  5.050357  5.689194   \n",
       "24599  7.302942  7.729626  7.812328   8.049530  2.093384  3.931990  5.611272   \n",
       "24600  7.326065  7.716843  7.806919   7.973503  2.787888  4.018410  5.328316   \n",
       "24601  7.468578  7.778685  7.850784  10.627434  4.174294  5.025371  5.777600   \n",
       "\n",
       "          q25_y     q50_y     q75_y     q90_y     q95_y   q_max_y  \n",
       "24597  6.079414  6.916779  7.298847  7.742220  7.878570  8.144135  \n",
       "24598  6.069740  6.967850  7.309910  7.711441  7.887523  8.065536  \n",
       "24599  6.070543  6.898853  7.290825  7.771281  7.880476  8.021378  \n",
       "24600  6.064194  6.710236  7.311813  7.825752  7.868347  7.999786  \n",
       "24601  6.083076  7.077744  7.350975  7.776492  7.874297  7.988586  "
      ]
     },
     "execution_count": 44,
     "metadata": {},
     "output_type": "execute_result"
    }
   ],
   "source": [
    "df.tail()\n",
    "# x is IPv4, y is IPv6"
   ]
  },
  {
   "cell_type": "code",
   "execution_count": 45,
   "metadata": {
    "collapsed": false
   },
   "outputs": [],
   "source": [
    "df['date'] = df['dtime'].apply(lambda d: dt.strptime(d, '%Y-%m-%d %H:%M:%S').strftime('%Y-%m-%d'))"
   ]
  },
  {
   "cell_type": "code",
   "execution_count": 46,
   "metadata": {
    "collapsed": true
   },
   "outputs": [],
   "source": [
    "df.sort_values(by = 'dtime', inplace = True)"
   ]
  },
  {
   "cell_type": "markdown",
   "metadata": {},
   "source": [
    "### Hardcoded dates"
   ]
  },
  {
   "cell_type": "code",
   "execution_count": 47,
   "metadata": {
    "collapsed": true
   },
   "outputs": [],
   "source": [
    "from dateutil import rrule\n",
    "a=dt.strptime(str('2014-08-01'), '%Y-%m-%d')\n",
    "b=dt.strptime(str('2017-07-01'), '%Y-%m-%d')\n",
    "dateranges = rrule.rrule(rrule.DAILY, dtstart=a).between(a, b, inc=True)"
   ]
  },
  {
   "cell_type": "code",
   "execution_count": 48,
   "metadata": {
    "collapsed": true
   },
   "outputs": [],
   "source": [
    "df_ = pd.DataFrame(dateranges, columns=['dtime']).sort_values(by = 'dtime').reset_index(drop = True)\n",
    "#df = pd.merge(df_, df, how='outer')"
   ]
  },
  {
   "cell_type": "code",
   "execution_count": 49,
   "metadata": {
    "collapsed": false
   },
   "outputs": [
    {
     "data": {
      "text/html": [
       "<div>\n",
       "<style scoped>\n",
       "    .dataframe tbody tr th:only-of-type {\n",
       "        vertical-align: middle;\n",
       "    }\n",
       "\n",
       "    .dataframe tbody tr th {\n",
       "        vertical-align: top;\n",
       "    }\n",
       "\n",
       "    .dataframe thead th {\n",
       "        text-align: right;\n",
       "    }\n",
       "</style>\n",
       "<table border=\"1\" class=\"dataframe\">\n",
       "  <thead>\n",
       "    <tr style=\"text-align: right;\">\n",
       "      <th></th>\n",
       "      <th>dtime</th>\n",
       "      <th>q00_x</th>\n",
       "      <th>q05_x</th>\n",
       "      <th>q10_x</th>\n",
       "      <th>q25_x</th>\n",
       "      <th>q50_x</th>\n",
       "      <th>q75_x</th>\n",
       "      <th>q90_x</th>\n",
       "      <th>q95_x</th>\n",
       "      <th>q_max_x</th>\n",
       "      <th>q00_y</th>\n",
       "      <th>q05_y</th>\n",
       "      <th>q10_y</th>\n",
       "      <th>q25_y</th>\n",
       "      <th>q50_y</th>\n",
       "      <th>q75_y</th>\n",
       "      <th>q90_y</th>\n",
       "      <th>q95_y</th>\n",
       "      <th>q_max_y</th>\n",
       "      <th>date</th>\n",
       "    </tr>\n",
       "  </thead>\n",
       "  <tbody>\n",
       "    <tr>\n",
       "      <th>24601</th>\n",
       "      <td>2017-06-27 23:00:00</td>\n",
       "      <td>3.509148</td>\n",
       "      <td>5.512974</td>\n",
       "      <td>5.947418</td>\n",
       "      <td>6.112835</td>\n",
       "      <td>7.001945</td>\n",
       "      <td>7.468578</td>\n",
       "      <td>7.778685</td>\n",
       "      <td>7.850784</td>\n",
       "      <td>10.627434</td>\n",
       "      <td>4.174294</td>\n",
       "      <td>5.025371</td>\n",
       "      <td>5.7776</td>\n",
       "      <td>6.083076</td>\n",
       "      <td>7.077744</td>\n",
       "      <td>7.350975</td>\n",
       "      <td>7.776492</td>\n",
       "      <td>7.874297</td>\n",
       "      <td>7.988586</td>\n",
       "      <td>2017-06-27</td>\n",
       "    </tr>\n",
       "  </tbody>\n",
       "</table>\n",
       "</div>"
      ],
      "text/plain": [
       "                     dtime     q00_x     q05_x     q10_x     q25_x     q50_x  \\\n",
       "24601  2017-06-27 23:00:00  3.509148  5.512974  5.947418  6.112835  7.001945   \n",
       "\n",
       "          q75_x     q90_x     q95_x    q_max_x     q00_y     q05_y   q10_y  \\\n",
       "24601  7.468578  7.778685  7.850784  10.627434  4.174294  5.025371  5.7776   \n",
       "\n",
       "          q25_y     q50_y     q75_y     q90_y     q95_y   q_max_y        date  \n",
       "24601  6.083076  7.077744  7.350975  7.776492  7.874297  7.988586  2017-06-27  "
      ]
     },
     "execution_count": 49,
     "metadata": {},
     "output_type": "execute_result"
    }
   ],
   "source": [
    "df.tail(1)"
   ]
  },
  {
   "cell_type": "code",
   "execution_count": 87,
   "metadata": {
    "collapsed": false
   },
   "outputs": [
    {
     "data": {
      "text/plain": [
       "2606    2014-12-10 13:00:00\n",
       "2607    2014-12-10 14:00:00\n",
       "2608    2014-12-10 15:00:00\n",
       "2609    2014-12-10 16:00:00\n",
       "2610    2014-12-10 17:00:00\n",
       "2611    2014-12-10 18:00:00\n",
       "2612    2014-12-10 19:00:00\n",
       "2613    2014-12-10 20:00:00\n",
       "2614    2014-12-10 21:00:00\n",
       "2615    2014-12-10 22:00:00\n",
       "2616    2014-12-10 23:00:00\n",
       "2617    2014-12-11 00:00:00\n",
       "2618    2014-12-11 01:00:00\n",
       "2619    2014-12-11 02:00:00\n",
       "2620    2014-12-11 03:00:00\n",
       "2621    2014-12-11 04:00:00\n",
       "2622    2014-12-11 05:00:00\n",
       "2623    2014-12-11 06:00:00\n",
       "2624    2014-12-11 07:00:00\n",
       "2625    2014-12-11 08:00:00\n",
       "2626    2014-12-11 09:00:00\n",
       "2627    2014-12-11 10:00:00\n",
       "2628    2014-12-11 11:00:00\n",
       "2629    2014-12-11 12:00:00\n",
       "2630    2014-12-11 13:00:00\n",
       "2631    2014-12-11 14:00:00\n",
       "2632    2014-12-11 15:00:00\n",
       "2633    2014-12-11 16:00:00\n",
       "2634    2014-12-11 17:00:00\n",
       "2635    2014-12-11 18:00:00\n",
       "               ...         \n",
       "7024    2015-06-18 11:00:00\n",
       "7026    2015-06-18 13:00:00\n",
       "7030    2015-06-18 17:00:00\n",
       "7038    2015-06-19 01:00:00\n",
       "7039    2015-06-19 02:00:00\n",
       "7048    2015-06-19 11:00:00\n",
       "7051    2015-06-19 14:00:00\n",
       "7054    2015-06-19 17:00:00\n",
       "7057    2015-06-19 20:00:00\n",
       "7059    2015-06-19 22:00:00\n",
       "7067    2015-06-20 06:00:00\n",
       "7082    2015-06-20 21:00:00\n",
       "7083    2015-06-20 22:00:00\n",
       "7089    2015-06-21 04:00:00\n",
       "7090    2015-06-21 05:00:00\n",
       "7091    2015-06-21 06:00:00\n",
       "7096    2015-06-21 11:00:00\n",
       "7097    2015-06-21 12:00:00\n",
       "7105    2015-06-21 20:00:00\n",
       "7117    2015-06-22 08:00:00\n",
       "7131    2015-06-22 22:00:00\n",
       "7140    2015-06-23 07:00:00\n",
       "7148    2015-06-23 15:00:00\n",
       "7154    2015-06-23 21:00:00\n",
       "7171    2015-06-24 14:00:00\n",
       "7177    2015-06-24 20:00:00\n",
       "7179    2015-06-24 22:00:00\n",
       "7200    2015-06-25 19:00:00\n",
       "7201    2015-06-25 20:00:00\n",
       "7205    2015-06-26 00:00:00\n",
       "Name: dtime, Length: 4206, dtype: object"
      ]
     },
     "execution_count": 87,
     "metadata": {},
     "output_type": "execute_result"
    }
   ],
   "source": [
    "dates_with_max_greater_50 = df[df['q_max_x'] > 50]\n",
    "dates_with_max_greater_50['dtime']"
   ]
  },
  {
   "cell_type": "code",
   "execution_count": 80,
   "metadata": {
    "collapsed": false
   },
   "outputs": [],
   "source": [
    "from matplotlib import cm\n",
    "viridis_cmap = plt.cm.get_cmap('plasma')\n",
    "\n",
    "norm = matplotlib.colors.Normalize(vmin=0, vmax=9)\n",
    "\n",
    "cols=[]\n",
    "\n",
    "for i in range(0, 9):\n",
    "    k = matplotlib.colors.colorConverter.to_rgb(viridis_cmap(norm(i)))\n",
    "    cols.append(k)\n"
   ]
  },
  {
   "cell_type": "code",
   "execution_count": 78,
   "metadata": {
    "collapsed": false
   },
   "outputs": [
    {
     "data": {
      "image/png": "[encoded data removed]",
      "text/plain": [
       "<Figure size 1440x1008 with 1 Axes>"
      ]
     },
     "metadata": {
      "needs_background": "light"
     },
     "output_type": "display_data"
    }
   ],
   "source": [
    "fig = plt.figure(figsize = (20, 14))\n",
    "plt.rcParams['font.size'] = 12\n",
    "ax = plt.gca()\n",
    "\n",
    "sl = df.plot(  x='dtime'\n",
    "             , y=['q00_x', 'q05_x', 'q10_x', 'q25_x', 'q50_x', 'q75_x', 'q90_x', 'q95_x', 'q_max_x']\n",
    "             , color=cols\n",
    "             , kind='line'\n",
    "             , linewidth = 1\n",
    "             , ax = ax\n",
    "            )\n",
    "\n",
    "\n",
    "ax.grid(False)\n",
    "ax.set_xlabel('', fontsize=22)\n",
    "ax.set_ylabel('throughput (MBit/s)', fontsize=12)\n",
    "ax.legend(['minimum', '5. quantile', '10. quantile', '25. quantile', 'median', '75. quantile', '90. quantile', '95. quantile', 'maximum'], fontsize=12, loc='best', ncol = 2)\n",
    "ax.set_yscale('linear')\n",
    "ax.set_ylim([0, 200])\n",
    "\n",
    "yticks = np.arange(0,200,10)\n",
    "ax.set_yticks(yticks)\n",
    "\n",
    "ax.spines['right'].set_color('none')\n",
    "ax.spines['top'].set_color('none')\n",
    "ax.yaxis.set_ticks_position('left')\n",
    "ax.xaxis.set_ticks_position('bottom')\n",
    "ax.spines['bottom'].set_position(('axes', -0.05))\n",
    "ax.spines['left'].set_position(('axes', -0.05))\n",
    "\n",
    "plt.xticks(rotation=90)\n",
    "\n",
    "#from datetime import datetime as dt\n",
    "#ax.axvline(x=dt.strptime('2014-08-21', \"%Y-%m-%d\"), linewidth=1.0, ymax = 200, ymin = 0, color='black', ls = 'dotted')\n",
    "#ax.axvline(x=dt.strptime('2014-12-10', \"%Y-%m-%d\"), linewidth=1.0, ymax = 200, ymin = 0, color='black', ls = 'dotted')\n",
    "#ax.axvline(x=dt.strptime('2015-01-22', \"%Y-%m-%d\"), linewidth=1.0, ymax = 200, ymin = 0, color='black', ls = 'dotted')\n",
    "#ax.axvline(x=dt.strptime('2016-09-05', \"%Y-%m-%d\"), linewidth=1.0, ymax = 200, ymin = 0, color='black', ls = 'dotted')\n",
    "\n",
    "plt.title('Throughput (IPv4)', fontsize=12, y=1.05)\n",
    "plt.savefig('youtube-video-throughput-timeseries_ipv4.pdf', format='pdf', bbox_inches='tight')"
   ]
  },
  {
   "cell_type": "code",
   "execution_count": 79,
   "metadata": {
    "collapsed": false
   },
   "outputs": [
    {
     "data": {
      "image/png": "[encoded data removed]",
      "text/plain": [
       "<Figure size 1440x1008 with 1 Axes>"
      ]
     },
     "metadata": {
      "needs_background": "light"
     },
     "output_type": "display_data"
    }
   ],
   "source": [
    "fig = plt.figure(figsize = (20, 14))\n",
    "plt.rcParams['font.size'] = 12\n",
    "ax = plt.gca()\n",
    "\n",
    "sl = df.plot(  x='dtime'\n",
    "             , y=['q00_x', 'q05_y', 'q10_y', 'q25_y', 'q50_y', 'q75_y', 'q90_y', 'q95_y', 'q_max_y']\n",
    "             , color=cols\n",
    "             , kind='line'\n",
    "             , linewidth = 1\n",
    "             , ax = ax\n",
    "            )\n",
    "\n",
    "\n",
    "ax.grid(False)\n",
    "ax.set_xlabel('', fontsize=22)\n",
    "ax.set_ylabel('throughput (MBit/s)', fontsize=12)\n",
    "ax.legend(['minimum', '5. quantile', '10. quantile', '25. quantile', 'median', '75. quantile', '90. quantile', '95. quantile', 'maximum'], fontsize=12, loc='best', ncol = 2)\n",
    "ax.set_yscale('linear')\n",
    "ax.set_ylim([0, 200])\n",
    "\n",
    "yticks = np.arange(0,200,10)\n",
    "ax.set_yticks(yticks)\n",
    "\n",
    "ax.spines['right'].set_color('none')\n",
    "ax.spines['top'].set_color('none')\n",
    "ax.yaxis.set_ticks_position('left')\n",
    "ax.xaxis.set_ticks_position('bottom')\n",
    "ax.spines['bottom'].set_position(('axes', -0.05))\n",
    "ax.spines['left'].set_position(('axes', -0.05))\n",
    "\n",
    "plt.xticks(rotation=90)\n",
    "\n",
    "#from datetime import datetime as dt\n",
    "#ax.axvline(x=dt.strptime('2014-08-21', \"%Y-%m-%d\"), linewidth=1.0, ymax = 200, ymin = 0, color='black', ls = 'dotted')\n",
    "#ax.axvline(x=dt.strptime('2014-12-10', \"%Y-%m-%d\"), linewidth=1.0, ymax = 200, ymin = 0, color='black', ls = 'dotted')\n",
    "#ax.axvline(x=dt.strptime('2015-01-22', \"%Y-%m-%d\"), linewidth=1.0, ymax = 200, ymin = 0, color='black', ls = 'dotted')\n",
    "#ax.axvline(x=dt.strptime('2016-09-05', \"%Y-%m-%d\"), linewidth=1.0, ymax = 200, ymin = 0, color='black', ls = 'dotted')\n",
    "\n",
    "plt.title('Throughput (IPv6)', fontsize=12, y=1.05)\n",
    "plt.savefig('youtube-video-throughput-timeseries_ipv6.pdf', format='pdf', bbox_inches='tight')"
   ]
  },
  {
   "cell_type": "code",
   "execution_count": null,
   "metadata": {
    "collapsed": true
   },
   "outputs": [],
   "source": []
  }
 ],
 "metadata": {
  "kernelspec": {
   "display_name": "Python 2",
   "language": "python",
   "name": "python2"
  },
  "language_info": {
   "codemirror_mode": {
    "name": "ipython",
    "version": 2
   },
   "file_extension": ".py",
   "mimetype": "text/x-python",
   "name": "python",
   "nbconvert_exporter": "python",
   "pygments_lexer": "ipython2",
   "version": "2.7.13"
  }
 },
 "nbformat": 4,
 "nbformat_minor": 1
}
